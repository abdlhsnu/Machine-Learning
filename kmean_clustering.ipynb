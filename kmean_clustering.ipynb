# Import library yang diperlukan
import pandas as pd
import numpy as np
from sklearn.model_selection import train_test_split
from sklearn.linear_model import LinearRegression
from sklearn.metrics import mean_squared_error, r2_score
from sklearn.cluster import KMeans
import matplotlib.pyplot as plt
import seaborn as sns

# Load dataset dari file CSV
file_path = 'Large_Sales_Data.csv'  # Pastikan file berada di folder kerja
data = pd.read_csv(file_path)

# Menampilkan statistik deskriptif awal
print("Statistik Deskriptif Data:")
print(data.describe())

# Tampilkan 5 baris pertama untuk memeriksa dataset
print("\nPreview Dataset:")
print(data.head())

# ---- REGRESI LINEAR ----
# Pilih kolom fitur (X) dan target (y)
# Ganti 'feature_column1', 'feature_column2', dan 'target_column' dengan kolom dataset Anda
X = data[['feature_column1', 'feature_column2']]  # Kolom fitur
y = data['target_column']  # Kolom target

# Pisahkan data menjadi set pelatihan dan pengujian
X_train, X_test, y_train, y_test = train_test_split(X, y, test_size=0.2, random_state=42)

# Inisialisasi model regresi linear
model = LinearRegression()

# Latih model menggunakan data pelatihan
model.fit(X_train, y_train)

# Prediksi menggunakan data pengujian
y_pred = model.predict(X_test)

# Evaluasi model
mse = mean_squared_error(y_test, y_pred)
r2 = r2_score(y_test, y_pred)

print("\n--- REGRESI LINEAR ---")
print(f"Mean Squared Error (MSE): {mse}")
print(f"R-squared (R2): {r2}")
print("Coefficients:", model.coef_)
print("Intercept:", model.intercept_)

# Visualisasi hasil prediksi vs aktual
plt.figure(figsize=(10, 6))
plt.scatter(y_test, y_pred, alpha=0.7, edgecolors='k')
plt.plot([min(y_test), max(y_test)], [min(y_test), max(y_test)], color='red', linestyle='--')
plt.title("Actual vs Predicted (Regression)")
plt.xlabel("Actual Values")
plt.ylabel("Predicted Values")
plt.show()

# ---- CLUSTERING SEGMENTASI ----
# Pilih kolom yang relevan untuk clustering
# Ganti 'column1', 'column2', dll. dengan kolom yang sesuai
clustering_data = data[['feature_column1', 'feature_column2']]

# Inisialisasi model KMeans
kmeans = KMeans(n_clusters=3, random_state=42)  # Ubah jumlah cluster jika diperlukan
kmeans.fit(clustering_data)

# Menambahkan hasil cluster ke dataset
data['Cluster'] = kmeans.labels_

print("\n--- CLUSTERING SEGMENTASI ---")
print(data['Cluster'].value_counts())

# Visualisasi cluster
plt.figure(figsize=(10, 6))
sns.scatterplot(data=clustering_data, x='feature_column1', y='feature_column2', hue=data['Cluster'], palette='viridis')
plt.title("Clustering Segmentasi")
plt.xlabel("Feature 1")
plt.ylabel("Feature 2")
plt.legend(title="Cluster")
plt.show()

# ---- ANALISIS STATISTIK ----
# Statistik deskriptif untuk setiap cluster
cluster_stats = data.groupby('Cluster').mean()
print("\nStatistik Deskriptif per Cluster:")
print(cluster_stats)

# Visualisasi distribusi cluster
plt.figure(figsize=(10, 6))
sns.boxplot(data=data, x='Cluster', y='target_column', palette='Set3')
plt.title("Distribusi Target per Cluster")
plt.xlabel("Cluster")
plt.ylabel("Target")
plt.show()
